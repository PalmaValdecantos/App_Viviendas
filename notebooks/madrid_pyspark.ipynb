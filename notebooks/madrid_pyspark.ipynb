{
 "cells": [
  {
   "cell_type": "markdown",
   "metadata": {},
   "source": [
    "## Importing pyspark and pandas "
   ]
  },
  {
   "cell_type": "code",
   "execution_count": 44,
   "metadata": {},
   "outputs": [],
   "source": [
    "import pyspark\n",
    "import pandas as pd"
   ]
  },
  {
   "cell_type": "markdown",
   "metadata": {},
   "source": [
    "### Importing SparkSession"
   ]
  },
  {
   "cell_type": "code",
   "execution_count": 4,
   "metadata": {},
   "outputs": [],
   "source": [
    "from pyspark.sql import SparkSession"
   ]
  },
  {
   "cell_type": "code",
   "execution_count": 5,
   "metadata": {},
   "outputs": [],
   "source": [
    "spark=SparkSession.builder.appName('Practise').getOrCreate()"
   ]
  },
  {
   "cell_type": "code",
   "execution_count": 6,
   "metadata": {},
   "outputs": [],
   "source": [
    "#df_pyspark_madrid=spark.read.csv('madrid_houses_clean.csv')"
   ]
  },
  {
   "cell_type": "markdown",
   "metadata": {},
   "source": [
    "### Reading the CSV "
   ]
  },
  {
   "cell_type": "code",
   "execution_count": 7,
   "metadata": {},
   "outputs": [],
   "source": [
    "df_pyspark_madrid=spark.read.option('header','true').csv('madrid_casas_con_fechas.csv')"
   ]
  },
  {
   "cell_type": "markdown",
   "metadata": {},
   "source": [
    "#### Dropping column called 'Unnamed: 0'"
   ]
  },
  {
   "cell_type": "code",
   "execution_count": 8,
   "metadata": {},
   "outputs": [],
   "source": [
    "df_pyspark_madrid = df_pyspark_madrid.drop('Unnamed: 0')"
   ]
  },
  {
   "cell_type": "code",
   "execution_count": 9,
   "metadata": {},
   "outputs": [
    {
     "data": {
      "text/plain": [
       "21739"
      ]
     },
     "execution_count": 9,
     "metadata": {},
     "output_type": "execute_result"
    }
   ],
   "source": [
    "#counting the number of rows\n",
    "\n",
    "df_pyspark_madrid.count()"
   ]
  },
  {
   "cell_type": "markdown",
   "metadata": {},
   "source": [
    "### Checking dtypes of the columns"
   ]
  },
  {
   "cell_type": "code",
   "execution_count": 10,
   "metadata": {},
   "outputs": [
    {
     "data": {
      "text/plain": [
       "[('_c0', 'string'),\n",
       " ('id', 'string'),\n",
       " ('sq_mt_built', 'string'),\n",
       " ('n_rooms', 'string'),\n",
       " ('n_bathrooms', 'string'),\n",
       " ('n_floors', 'string'),\n",
       " ('sq_mt_allotment', 'string'),\n",
       " ('floor', 'string'),\n",
       " ('buy_price', 'string'),\n",
       " ('is_renewal_needed', 'string'),\n",
       " ('has_lift', 'string'),\n",
       " ('is_exterior', 'string'),\n",
       " ('energy_certificate', 'string'),\n",
       " ('has_parking', 'string'),\n",
       " ('neighborhood', 'string'),\n",
       " ('district', 'string'),\n",
       " ('house_type', 'string'),\n",
       " ('fecha_venta', 'string')]"
      ]
     },
     "execution_count": 10,
     "metadata": {},
     "output_type": "execute_result"
    }
   ],
   "source": [
    "# Checking dtypes of this dataframe\n",
    "df_pyspark_madrid.dtypes"
   ]
  },
  {
   "cell_type": "markdown",
   "metadata": {},
   "source": [
    "### Checking stats of the dataframe"
   ]
  },
  {
   "cell_type": "code",
   "execution_count": 11,
   "metadata": {},
   "outputs": [
    {
     "name": "stdout",
     "output_type": "stream",
     "text": [
      "+-------+----------------+------------------+------------------+------------------+------------------+------------------+-----------------+-----------------+-----------------+-----------------+--------+-----------+------------------+-----------+-----------------+------------------+------------------+-------------------+\n",
      "|summary|             _c0|                id|       sq_mt_built|           n_rooms|       n_bathrooms|          n_floors|  sq_mt_allotment|            floor|        buy_price|is_renewal_needed|has_lift|is_exterior|energy_certificate|has_parking|     neighborhood|          district|        house_type|        fecha_venta|\n",
      "+-------+----------------+------------------+------------------+------------------+------------------+------------------+-----------------+-----------------+-----------------+-----------------+--------+-----------+------------------+-----------+-----------------+------------------+------------------+-------------------+\n",
      "|  count|           21739|             21739|             21739|             21739|             21739|             21739|            21739|            21739|            21739|            21739|   21739|      21739|             21739|      21739|            21739|             21739|             21739|              21739|\n",
      "|   mean|         10869.0|10871.122314733888|153.81494973142776| 3.006026036156217|2.0912645475872855|1.2337274023644142|57.81195087170523|1.833248999493997|653572.8620451723|             null|    null|       null|1.1392888357330144|       null|62.80233681402088| 9.747412484474907|1.4077464464786789|               null|\n",
      "| stddev|6275.65308686408| 6276.868147968098|164.71881544685826|1.5103563514198048|1.4071850628679423|0.7095237890327228|397.7205291934809|3.039868548524231|781966.1368587181|             null|    null|       null|1.9023961023973899|       null|38.34338752247135|5.5878881165849315|1.0164652278401294|               null|\n",
      "|    min|               0|                 1|             100.0|                 0|                 1|                 1|              0.0|               -1|           100000|            False|   False|      False|                 0|      False|                1|                 1|                 1|1990-01-20 20:55:12|\n",
      "|    max|            9999|              9999| 999.8545454545456|                 9|                 9|                 7|            997.0|                9|           999999|             True|    True|       True|                 7|       True|               99|                 9|                 5|2021-10-22 17:40:51|\n",
      "+-------+----------------+------------------+------------------+------------------+------------------+------------------+-----------------+-----------------+-----------------+-----------------+--------+-----------+------------------+-----------+-----------------+------------------+------------------+-------------------+\n",
      "\n"
     ]
    }
   ],
   "source": [
    "#Analyzing the statistics of the dataframe\n",
    "df_pyspark_madrid.describe().show()"
   ]
  },
  {
   "cell_type": "markdown",
   "metadata": {},
   "source": [
    "### Checking null values"
   ]
  },
  {
   "cell_type": "code",
   "execution_count": 12,
   "metadata": {},
   "outputs": [
    {
     "name": "stdout",
     "output_type": "stream",
     "text": [
      "root\n",
      " |-- _c0: string (nullable = true)\n",
      " |-- id: string (nullable = true)\n",
      " |-- sq_mt_built: string (nullable = true)\n",
      " |-- n_rooms: string (nullable = true)\n",
      " |-- n_bathrooms: string (nullable = true)\n",
      " |-- n_floors: string (nullable = true)\n",
      " |-- sq_mt_allotment: string (nullable = true)\n",
      " |-- floor: string (nullable = true)\n",
      " |-- buy_price: string (nullable = true)\n",
      " |-- is_renewal_needed: string (nullable = true)\n",
      " |-- has_lift: string (nullable = true)\n",
      " |-- is_exterior: string (nullable = true)\n",
      " |-- energy_certificate: string (nullable = true)\n",
      " |-- has_parking: string (nullable = true)\n",
      " |-- neighborhood: string (nullable = true)\n",
      " |-- district: string (nullable = true)\n",
      " |-- house_type: string (nullable = true)\n",
      " |-- fecha_venta: string (nullable = true)\n",
      "\n"
     ]
    }
   ],
   "source": [
    "# Checking null values \n",
    "df_pyspark_madrid.printSchema()"
   ]
  },
  {
   "cell_type": "markdown",
   "metadata": {},
   "source": [
    "### Checking for Distinct Values in 'floor' column "
   ]
  },
  {
   "cell_type": "code",
   "execution_count": 13,
   "metadata": {},
   "outputs": [
    {
     "data": {
      "text/plain": [
       "[Row(floor='7'),\n",
       " Row(floor='-1'),\n",
       " Row(floor='3'),\n",
       " Row(floor='8'),\n",
       " Row(floor='0'),\n",
       " Row(floor='5'),\n",
       " Row(floor='6'),\n",
       " Row(floor='9'),\n",
       " Row(floor='1'),\n",
       " Row(floor='10'),\n",
       " Row(floor='-3'),\n",
       " Row(floor='4'),\n",
       " Row(floor='-2'),\n",
       " Row(floor='-5'),\n",
       " Row(floor='2')]"
      ]
     },
     "execution_count": 13,
     "metadata": {},
     "output_type": "execute_result"
    }
   ],
   "source": [
    "df_pyspark_madrid.select('floor').distinct().collect()"
   ]
  },
  {
   "cell_type": "markdown",
   "metadata": {},
   "source": [
    "### Checking for number of rows in floor values -5, -3, -2, -1"
   ]
  },
  {
   "cell_type": "code",
   "execution_count": 14,
   "metadata": {},
   "outputs": [
    {
     "data": {
      "text/plain": [
       "1938"
      ]
     },
     "execution_count": 14,
     "metadata": {},
     "output_type": "execute_result"
    }
   ],
   "source": [
    "#checking out houses that has floor of -5\n",
    "\n",
    "df_pyspark_madrid.select('floor').where(df_pyspark_madrid.floor == -5).count()\n",
    "\n",
    "#there are 1938 number of rows with a floor value of -5. Equates to 8% of total dataframe. In this case our suggestion is to delete them. "
   ]
  },
  {
   "cell_type": "code",
   "execution_count": 15,
   "metadata": {},
   "outputs": [
    {
     "data": {
      "text/plain": [
       "32"
      ]
     },
     "execution_count": 15,
     "metadata": {},
     "output_type": "execute_result"
    }
   ],
   "source": [
    "#checking out houses that has floor of -3\n",
    "\n",
    "df_pyspark_madrid.select('floor').where(df_pyspark_madrid.floor == -3).count()"
   ]
  },
  {
   "cell_type": "code",
   "execution_count": 16,
   "metadata": {},
   "outputs": [
    {
     "data": {
      "text/plain": [
       "92"
      ]
     },
     "execution_count": 16,
     "metadata": {},
     "output_type": "execute_result"
    }
   ],
   "source": [
    "#checking out houses that has floor of -2\n",
    "\n",
    "df_pyspark_madrid.select('floor').where(df_pyspark_madrid.floor == -2).count()"
   ]
  },
  {
   "cell_type": "code",
   "execution_count": 17,
   "metadata": {},
   "outputs": [
    {
     "data": {
      "text/plain": [
       "2175"
      ]
     },
     "execution_count": 17,
     "metadata": {},
     "output_type": "execute_result"
    }
   ],
   "source": [
    "#checking out houses that has floor of -1\n",
    "\n",
    "df_pyspark_madrid.select('floor').where(df_pyspark_madrid.floor == -1).count()"
   ]
  },
  {
   "cell_type": "code",
   "execution_count": 19,
   "metadata": {},
   "outputs": [],
   "source": [
    "#df_pyspark_madrid.filter(df_pyspark_madrid['floor'] == -2).show()"
   ]
  },
  {
   "cell_type": "code",
   "execution_count": 20,
   "metadata": {},
   "outputs": [],
   "source": [
    "#df_pyspark_madrid_without_negative3=df_pyspark_madrid.where(\"floor!=-3\")\n",
    "\n",
    "#df_pyspark_madrid_without_negative3.show()"
   ]
  },
  {
   "cell_type": "code",
   "execution_count": 21,
   "metadata": {},
   "outputs": [],
   "source": [
    "# verifying that -3 is deleted\n",
    "\n",
    "#df_pyspark_madrid_without_negative3.select('floor').where(df_pyspark_madrid_without_negative3.floor == -3).count()"
   ]
  },
  {
   "cell_type": "code",
   "execution_count": 22,
   "metadata": {},
   "outputs": [],
   "source": [
    "#df_pyspark_madrid_without_negative3_and_negative2 = df_pyspark_madrid_without_negative3.where(\"floor!=-2\")"
   ]
  },
  {
   "cell_type": "code",
   "execution_count": 23,
   "metadata": {},
   "outputs": [],
   "source": [
    "#df_pyspark_madrid_without_negative3_and_negative2.select('floor').where(df_pyspark_madrid_without_negative3_and_negative2.floor == -2).count()"
   ]
  },
  {
   "cell_type": "code",
   "execution_count": 24,
   "metadata": {},
   "outputs": [],
   "source": [
    "#df_pyspark_madrid_without_negative3_and_negative2_and_negative5 = df_pyspark_madrid_without_negative3_and_negative2.where(\"floor!=-5\")"
   ]
  },
  {
   "cell_type": "code",
   "execution_count": 25,
   "metadata": {},
   "outputs": [],
   "source": [
    "#df_pyspark_madrid_without_negative3_and_negative2_and_negative5.select('floor').where(df_pyspark_madrid_without_negative3_and_negative2_and_negative5.floor == -5).count()"
   ]
  },
  {
   "cell_type": "code",
   "execution_count": 26,
   "metadata": {},
   "outputs": [
    {
     "data": {
      "text/plain": [
       "21739"
      ]
     },
     "execution_count": 26,
     "metadata": {},
     "output_type": "execute_result"
    }
   ],
   "source": [
    "df_pyspark_madrid.count()"
   ]
  },
  {
   "cell_type": "code",
   "execution_count": 27,
   "metadata": {},
   "outputs": [
    {
     "name": "stdout",
     "output_type": "stream",
     "text": [
      "+---+-----+-----------+-------+-----------+--------+---------------+-----+---------+-----------------+--------+-----------+------------------+-----------+------------+--------+----------+-------------------+\n",
      "|_c0|   id|sq_mt_built|n_rooms|n_bathrooms|n_floors|sq_mt_allotment|floor|buy_price|is_renewal_needed|has_lift|is_exterior|energy_certificate|has_parking|neighborhood|district|house_type|        fecha_venta|\n",
      "+---+-----+-----------+-------+-----------+--------+---------------+-----+---------+-----------------+--------+-----------+------------------+-----------+------------+--------+----------+-------------------+\n",
      "|  0|21742|       64.0|      2|          1|       1|            0.0|    3|    85000|            False|   False|       True|                 4|      False|         135|      21|         1|2018-12-16 10:43:16|\n",
      "|  1|21741|       70.0|      3|          1|       1|            0.0|    4|   129900|             True|    True|       True|                 0|      False|         132|      21|         1|1994-07-09 21:18:56|\n",
      "|  2|21740|       94.0|      2|          2|       1|            0.0|    1|   144247|            False|    True|       True|                 0|      False|         134|      21|         1|1999-08-23 00:13:51|\n",
      "|  3|21739|       64.0|      2|          1|       1|            0.0|   -1|   109900|            False|    True|       True|                 0|      False|         134|      21|         1|2012-10-20 09:20:20|\n",
      "|  4|21738|      108.0|      2|          2|       1|            0.0|    4|   260000|            False|    True|       True|                 0|       True|         133|      21|         1|2011-03-19 07:39:04|\n",
      "|  5|21737|      126.0|      4|          2|       1|            0.0|    3|   195000|            False|   False|       True|                 0|       True|         134|      21|         1|1991-07-19 07:19:31|\n",
      "|  6|21736|      120.0|      5|          2|       1|            0.0|    1|   190000|            False|   False|       True|                 2|       True|         134|      21|         1|2020-12-06 03:30:40|\n",
      "|  7|21735|      125.0|      3|          2|       1|            0.0|    2|   198500|            False|   False|       True|                 0|      False|         134|      21|         1|2012-09-01 13:34:09|\n",
      "|  8|21734|       84.0|      3|          2|       1|            0.0|    2|   212000|            False|    True|       True|                 2|       True|         131|      21|         1|2019-08-24 11:53:01|\n",
      "|  9|21733|       85.0|      2|          1|       1|            0.0|    7|   131400|             True|   False|       True|                 0|      False|         133|      21|         1|2011-05-17 14:41:14|\n",
      "| 10|21732|       69.0|      2|          2|       1|            0.0|    2|   118000|             True|   False|       True|                 0|      False|         134|      21|         1|1999-10-11 21:02:53|\n",
      "| 11|21731|      122.0|      3|          2|       1|            0.0|    6|   246900|            False|    True|       True|                 3|       True|         131|      21|         1|2000-12-22 17:15:08|\n",
      "| 12|21730|      123.0|      3|          2|       1|            0.0|    4|   195000|            False|    True|       True|                 4|      False|         133|      21|         1|2003-12-01 14:13:14|\n",
      "| 13|21729|      109.0|      3|          2|       1|            0.0|    3|   205000|            False|    True|       True|                 3|      False|         132|      21|         1|1996-06-22 11:18:35|\n",
      "| 14|21728|       64.0|      3|          1|       1|            0.0|    3|    72000|            False|   False|       True|                 2|      False|         135|      21|         1|1997-05-14 10:01:22|\n",
      "| 15|21727|      115.0|      3|          1|       1|            0.0|    3|   160000|            False|   False|       True|                 0|      False|         133|      21|         1|1990-05-25 04:20:28|\n",
      "| 16|21726|      115.0|      3|          1|       1|            0.0|    1|   184900|            False|   False|       True|                 0|      False|         133|      21|         1|2021-07-19 13:57:23|\n",
      "| 17|21725|       65.0|      3|          1|       1|            0.0|    4|    90000|            False|   False|       True|                 0|      False|         132|      21|         1|2008-04-06 17:08:20|\n",
      "| 18|21724|       75.0|      3|          1|       1|            0.0|    3|   129900|             True|    True|       True|                 0|      False|         134|      21|         1|1996-03-29 15:47:03|\n",
      "| 19|21723|       60.0|      2|          1|       1|            0.0|   -1|    94900|            False|   False|       True|                 0|      False|         135|      21|         1|1992-07-28 17:48:21|\n",
      "+---+-----+-----------+-------+-----------+--------+---------------+-----+---------+-----------------+--------+-----------+------------------+-----------+------------+--------+----------+-------------------+\n",
      "only showing top 20 rows\n",
      "\n"
     ]
    }
   ],
   "source": [
    "df_pyspark_madrid.show()"
   ]
  },
  {
   "cell_type": "code",
   "execution_count": 28,
   "metadata": {},
   "outputs": [],
   "source": [
    "# renaming the dataframe\n",
    "\n",
    "#updated_df_madrid_spark = df_pyspark_madrid_without_negative3_and_negative2_and_negative5\n",
    "\n",
    "updated_df_madrid_spark = df_pyspark_madrid"
   ]
  },
  {
   "cell_type": "code",
   "execution_count": 29,
   "metadata": {},
   "outputs": [
    {
     "name": "stdout",
     "output_type": "stream",
     "text": [
      "+---+-----+-----------+-------+-----------+--------+---------------+-----+---------+-----------------+--------+-----------+------------------+-----------+------------+--------+----------+-------------------+\n",
      "|_c0|   id|sq_mt_built|n_rooms|n_bathrooms|n_floors|sq_mt_allotment|floor|buy_price|is_renewal_needed|has_lift|is_exterior|energy_certificate|has_parking|neighborhood|district|house_type|        fecha_venta|\n",
      "+---+-----+-----------+-------+-----------+--------+---------------+-----+---------+-----------------+--------+-----------+------------------+-----------+------------+--------+----------+-------------------+\n",
      "|  0|21742|       64.0|      2|          1|       1|            0.0|    3|    85000|            False|   False|       True|                 4|      False|         135|      21|         1|2018-12-16 10:43:16|\n",
      "|  1|21741|       70.0|      3|          1|       1|            0.0|    4|   129900|             True|    True|       True|                 0|      False|         132|      21|         1|1994-07-09 21:18:56|\n",
      "|  2|21740|       94.0|      2|          2|       1|            0.0|    1|   144247|            False|    True|       True|                 0|      False|         134|      21|         1|1999-08-23 00:13:51|\n",
      "|  3|21739|       64.0|      2|          1|       1|            0.0|   -1|   109900|            False|    True|       True|                 0|      False|         134|      21|         1|2012-10-20 09:20:20|\n",
      "|  4|21738|      108.0|      2|          2|       1|            0.0|    4|   260000|            False|    True|       True|                 0|       True|         133|      21|         1|2011-03-19 07:39:04|\n",
      "|  5|21737|      126.0|      4|          2|       1|            0.0|    3|   195000|            False|   False|       True|                 0|       True|         134|      21|         1|1991-07-19 07:19:31|\n",
      "|  6|21736|      120.0|      5|          2|       1|            0.0|    1|   190000|            False|   False|       True|                 2|       True|         134|      21|         1|2020-12-06 03:30:40|\n",
      "|  7|21735|      125.0|      3|          2|       1|            0.0|    2|   198500|            False|   False|       True|                 0|      False|         134|      21|         1|2012-09-01 13:34:09|\n",
      "|  8|21734|       84.0|      3|          2|       1|            0.0|    2|   212000|            False|    True|       True|                 2|       True|         131|      21|         1|2019-08-24 11:53:01|\n",
      "|  9|21733|       85.0|      2|          1|       1|            0.0|    7|   131400|             True|   False|       True|                 0|      False|         133|      21|         1|2011-05-17 14:41:14|\n",
      "| 10|21732|       69.0|      2|          2|       1|            0.0|    2|   118000|             True|   False|       True|                 0|      False|         134|      21|         1|1999-10-11 21:02:53|\n",
      "| 11|21731|      122.0|      3|          2|       1|            0.0|    6|   246900|            False|    True|       True|                 3|       True|         131|      21|         1|2000-12-22 17:15:08|\n",
      "| 12|21730|      123.0|      3|          2|       1|            0.0|    4|   195000|            False|    True|       True|                 4|      False|         133|      21|         1|2003-12-01 14:13:14|\n",
      "| 13|21729|      109.0|      3|          2|       1|            0.0|    3|   205000|            False|    True|       True|                 3|      False|         132|      21|         1|1996-06-22 11:18:35|\n",
      "| 14|21728|       64.0|      3|          1|       1|            0.0|    3|    72000|            False|   False|       True|                 2|      False|         135|      21|         1|1997-05-14 10:01:22|\n",
      "| 15|21727|      115.0|      3|          1|       1|            0.0|    3|   160000|            False|   False|       True|                 0|      False|         133|      21|         1|1990-05-25 04:20:28|\n",
      "| 16|21726|      115.0|      3|          1|       1|            0.0|    1|   184900|            False|   False|       True|                 0|      False|         133|      21|         1|2021-07-19 13:57:23|\n",
      "| 17|21725|       65.0|      3|          1|       1|            0.0|    4|    90000|            False|   False|       True|                 0|      False|         132|      21|         1|2008-04-06 17:08:20|\n",
      "| 18|21724|       75.0|      3|          1|       1|            0.0|    3|   129900|             True|    True|       True|                 0|      False|         134|      21|         1|1996-03-29 15:47:03|\n",
      "| 19|21723|       60.0|      2|          1|       1|            0.0|   -1|    94900|            False|   False|       True|                 0|      False|         135|      21|         1|1992-07-28 17:48:21|\n",
      "+---+-----+-----------+-------+-----------+--------+---------------+-----+---------+-----------------+--------+-----------+------------------+-----------+------------+--------+----------+-------------------+\n",
      "only showing top 20 rows\n",
      "\n"
     ]
    }
   ],
   "source": [
    "updated_df_madrid_spark.show()"
   ]
  },
  {
   "cell_type": "code",
   "execution_count": 30,
   "metadata": {},
   "outputs": [
    {
     "data": {
      "text/plain": [
       "21739"
      ]
     },
     "execution_count": 30,
     "metadata": {},
     "output_type": "execute_result"
    }
   ],
   "source": [
    "updated_df_madrid_spark.count()"
   ]
  },
  {
   "cell_type": "markdown",
   "metadata": {},
   "source": [
    "#### Creating a new Dataframe where housetype is only 2, Equates to Single Family homes. "
   ]
  },
  {
   "cell_type": "code",
   "execution_count": 31,
   "metadata": {},
   "outputs": [],
   "source": [
    "df_pyspark_madrid_only_house_type2 = updated_df_madrid_spark.where(\"house_type==2\")"
   ]
  },
  {
   "cell_type": "code",
   "execution_count": 32,
   "metadata": {},
   "outputs": [
    {
     "name": "stdout",
     "output_type": "stream",
     "text": [
      "+---+-----+-----------+-------+-----------+--------+---------------+-----+---------+-----------------+--------+-----------+------------------+-----------+------------+--------+----------+-------------------+\n",
      "|_c0|   id|sq_mt_built|n_rooms|n_bathrooms|n_floors|sq_mt_allotment|floor|buy_price|is_renewal_needed|has_lift|is_exterior|energy_certificate|has_parking|neighborhood|district|house_type|        fecha_venta|\n",
      "+---+-----+-----------+-------+-----------+--------+---------------+-----+---------+-----------------+--------+-----------+------------------+-----------+------------+--------+----------+-------------------+\n",
      "| 85|21657|      150.0|      2|          1|       2|            0.0|   -5|   159000|             True|   False|       True|                 2|       True|         134|      21|         2|1997-01-17 20:38:31|\n",
      "|378|21364|      240.0|      4|          3|       3|            0.0|   -5|   580000|            False|   False|       True|                 0|       True|         134|      21|         2|2008-12-09 15:35:42|\n",
      "|402|21340|      242.0|      4|          3|       4|           22.0|   -5|   380000|            False|   False|       True|                 0|       True|         134|      21|         2|2002-04-09 03:58:32|\n",
      "|403|21339|      166.0|      3|          1|       3|          166.0|   -5|   300000|             True|   False|       True|                 0|      False|         133|      21|         2|2017-10-24 14:21:55|\n",
      "|531|21211|      274.0|      8|          3|       3|          157.0|   -5|   495000|            False|   False|       True|                 0|      False|         133|      21|         2|2017-10-06 17:52:19|\n",
      "|783|20959|       70.0|      3|          1|       3|            0.0|   -5|   250000|            False|   False|       True|                 1|      False|         124|      19|         2|2006-03-17 20:33:41|\n",
      "|793|20949|      166.0|      4|          3|       3|            0.0|   -5|   442000|            False|   False|       True|                 0|      False|         126|      19|         2|2005-01-11 13:36:07|\n",
      "|794|20948|      167.0|      4|          3|       3|            0.0|   -5|   446000|            False|   False|       True|                 0|      False|         126|      19|         2|2020-04-26 11:39:28|\n",
      "|795|20947|      173.0|      4|          3|       3|            0.0|   -5|   440000|            False|   False|       True|                 0|      False|         126|      19|         2|2013-01-04 05:39:35|\n",
      "|803|20939|      285.0|      4|          3|       4|            0.0|   -5|   339841|            False|   False|       True|                 0|      False|         126|      19|         2|2006-03-07 09:31:12|\n",
      "|804|20938|      268.0|      4|          3|       4|            0.0|   -5|   338066|            False|   False|       True|                 0|      False|         126|      19|         2|2008-06-29 10:50:39|\n",
      "|805|20937|      268.0|      4|          3|       4|            0.0|   -5|   337631|            False|   False|       True|                 0|      False|         126|      19|         2|1990-02-22 21:02:47|\n",
      "|819|20923|      137.0|      2|          1|       2|            0.0|   -5|   296500|            False|   False|       True|                 3|      False|         125|      19|         2|2021-02-26 23:20:00|\n",
      "|826|20916|      275.0|      5|          2|       2|            0.0|   -5|   385000|             True|   False|       True|                 0|      False|         125|      19|         2|1990-12-17 11:30:56|\n",
      "|877|20865|      149.0|      4|          3|       3|            0.0|   -5|   334000|            False|   False|       True|                 0|      False|         126|      19|         2|1996-04-23 13:56:28|\n",
      "|878|20864|      149.0|      4|          3|       3|            0.0|   -5|   343000|            False|   False|       True|                 0|      False|         126|      19|         2|2017-03-30 22:01:34|\n",
      "|880|20862|      248.0|      4|          3|       3|            0.0|   -5|   348000|            False|   False|       True|                 0|       True|         126|      19|         2|2008-11-17 17:01:14|\n",
      "|881|20861|      205.0|      3|          3|       3|            0.0|   -5|   350000|            False|   False|       True|                 0|       True|         126|      19|         2|2007-04-06 16:39:39|\n",
      "|896|20846|      149.0|      3|          3|       2|          154.0|   -5|   336403|            False|   False|       True|                 6|       True|         126|      19|         2|1995-06-08 12:10:49|\n",
      "|897|20845|      149.0|      3|          3|       2|          164.0|   -5|   333279|            False|   False|       True|                 6|       True|         126|      19|         2|2015-09-27 18:53:48|\n",
      "+---+-----+-----------+-------+-----------+--------+---------------+-----+---------+-----------------+--------+-----------+------------------+-----------+------------+--------+----------+-------------------+\n",
      "only showing top 20 rows\n",
      "\n"
     ]
    }
   ],
   "source": [
    "df_pyspark_madrid_only_house_type2.show()"
   ]
  },
  {
   "cell_type": "code",
   "execution_count": 33,
   "metadata": {},
   "outputs": [
    {
     "data": {
      "text/plain": [
       "1938"
      ]
     },
     "execution_count": 33,
     "metadata": {},
     "output_type": "execute_result"
    }
   ],
   "source": [
    "df_pyspark_madrid_only_house_type2.count()"
   ]
  },
  {
   "cell_type": "markdown",
   "metadata": {},
   "source": [
    "### From Spark to Pandas"
   ]
  },
  {
   "cell_type": "code",
   "execution_count": 34,
   "metadata": {},
   "outputs": [],
   "source": [
    "df_pyspark_madrid_only_house_type2_pandas = df_pyspark_madrid_only_house_type2.toPandas()"
   ]
  },
  {
   "cell_type": "code",
   "execution_count": 46,
   "metadata": {},
   "outputs": [
    {
     "data": {
      "text/html": [
       "<div>\n",
       "<style scoped>\n",
       "    .dataframe tbody tr th:only-of-type {\n",
       "        vertical-align: middle;\n",
       "    }\n",
       "\n",
       "    .dataframe tbody tr th {\n",
       "        vertical-align: top;\n",
       "    }\n",
       "\n",
       "    .dataframe thead th {\n",
       "        text-align: right;\n",
       "    }\n",
       "</style>\n",
       "<table border=\"1\" class=\"dataframe\">\n",
       "  <thead>\n",
       "    <tr style=\"text-align: right;\">\n",
       "      <th></th>\n",
       "      <th>_c0</th>\n",
       "      <th>id</th>\n",
       "      <th>sq_mt_built</th>\n",
       "      <th>n_rooms</th>\n",
       "      <th>n_bathrooms</th>\n",
       "      <th>n_floors</th>\n",
       "      <th>sq_mt_allotment</th>\n",
       "      <th>floor</th>\n",
       "      <th>buy_price</th>\n",
       "      <th>is_renewal_needed</th>\n",
       "      <th>has_lift</th>\n",
       "      <th>is_exterior</th>\n",
       "      <th>energy_certificate</th>\n",
       "      <th>has_parking</th>\n",
       "      <th>neighborhood</th>\n",
       "      <th>district</th>\n",
       "      <th>house_type</th>\n",
       "      <th>fecha_venta</th>\n",
       "    </tr>\n",
       "  </thead>\n",
       "  <tbody>\n",
       "    <tr>\n",
       "      <th>0</th>\n",
       "      <td>85</td>\n",
       "      <td>21657</td>\n",
       "      <td>150.0</td>\n",
       "      <td>2</td>\n",
       "      <td>1</td>\n",
       "      <td>2</td>\n",
       "      <td>0.0</td>\n",
       "      <td>-5</td>\n",
       "      <td>159000</td>\n",
       "      <td>True</td>\n",
       "      <td>False</td>\n",
       "      <td>True</td>\n",
       "      <td>2</td>\n",
       "      <td>True</td>\n",
       "      <td>134</td>\n",
       "      <td>21</td>\n",
       "      <td>2</td>\n",
       "      <td>1997-01-17 20:38:31</td>\n",
       "    </tr>\n",
       "    <tr>\n",
       "      <th>1</th>\n",
       "      <td>378</td>\n",
       "      <td>21364</td>\n",
       "      <td>240.0</td>\n",
       "      <td>4</td>\n",
       "      <td>3</td>\n",
       "      <td>3</td>\n",
       "      <td>0.0</td>\n",
       "      <td>-5</td>\n",
       "      <td>580000</td>\n",
       "      <td>False</td>\n",
       "      <td>False</td>\n",
       "      <td>True</td>\n",
       "      <td>0</td>\n",
       "      <td>True</td>\n",
       "      <td>134</td>\n",
       "      <td>21</td>\n",
       "      <td>2</td>\n",
       "      <td>2008-12-09 15:35:42</td>\n",
       "    </tr>\n",
       "    <tr>\n",
       "      <th>2</th>\n",
       "      <td>402</td>\n",
       "      <td>21340</td>\n",
       "      <td>242.0</td>\n",
       "      <td>4</td>\n",
       "      <td>3</td>\n",
       "      <td>4</td>\n",
       "      <td>22.0</td>\n",
       "      <td>-5</td>\n",
       "      <td>380000</td>\n",
       "      <td>False</td>\n",
       "      <td>False</td>\n",
       "      <td>True</td>\n",
       "      <td>0</td>\n",
       "      <td>True</td>\n",
       "      <td>134</td>\n",
       "      <td>21</td>\n",
       "      <td>2</td>\n",
       "      <td>2002-04-09 03:58:32</td>\n",
       "    </tr>\n",
       "    <tr>\n",
       "      <th>3</th>\n",
       "      <td>403</td>\n",
       "      <td>21339</td>\n",
       "      <td>166.0</td>\n",
       "      <td>3</td>\n",
       "      <td>1</td>\n",
       "      <td>3</td>\n",
       "      <td>166.0</td>\n",
       "      <td>-5</td>\n",
       "      <td>300000</td>\n",
       "      <td>True</td>\n",
       "      <td>False</td>\n",
       "      <td>True</td>\n",
       "      <td>0</td>\n",
       "      <td>False</td>\n",
       "      <td>133</td>\n",
       "      <td>21</td>\n",
       "      <td>2</td>\n",
       "      <td>2017-10-24 14:21:55</td>\n",
       "    </tr>\n",
       "    <tr>\n",
       "      <th>4</th>\n",
       "      <td>531</td>\n",
       "      <td>21211</td>\n",
       "      <td>274.0</td>\n",
       "      <td>8</td>\n",
       "      <td>3</td>\n",
       "      <td>3</td>\n",
       "      <td>157.0</td>\n",
       "      <td>-5</td>\n",
       "      <td>495000</td>\n",
       "      <td>False</td>\n",
       "      <td>False</td>\n",
       "      <td>True</td>\n",
       "      <td>0</td>\n",
       "      <td>False</td>\n",
       "      <td>133</td>\n",
       "      <td>21</td>\n",
       "      <td>2</td>\n",
       "      <td>2017-10-06 17:52:19</td>\n",
       "    </tr>\n",
       "  </tbody>\n",
       "</table>\n",
       "</div>"
      ],
      "text/plain": [
       "   _c0     id sq_mt_built n_rooms n_bathrooms n_floors sq_mt_allotment floor  \\\n",
       "0   85  21657       150.0       2           1        2             0.0    -5   \n",
       "1  378  21364       240.0       4           3        3             0.0    -5   \n",
       "2  402  21340       242.0       4           3        4            22.0    -5   \n",
       "3  403  21339       166.0       3           1        3           166.0    -5   \n",
       "4  531  21211       274.0       8           3        3           157.0    -5   \n",
       "\n",
       "  buy_price is_renewal_needed has_lift is_exterior energy_certificate  \\\n",
       "0    159000              True    False        True                  2   \n",
       "1    580000             False    False        True                  0   \n",
       "2    380000             False    False        True                  0   \n",
       "3    300000              True    False        True                  0   \n",
       "4    495000             False    False        True                  0   \n",
       "\n",
       "  has_parking neighborhood district house_type          fecha_venta  \n",
       "0        True          134       21          2  1997-01-17 20:38:31  \n",
       "1        True          134       21          2  2008-12-09 15:35:42  \n",
       "2        True          134       21          2  2002-04-09 03:58:32  \n",
       "3       False          133       21          2  2017-10-24 14:21:55  \n",
       "4       False          133       21          2  2017-10-06 17:52:19  "
      ]
     },
     "execution_count": 46,
     "metadata": {},
     "output_type": "execute_result"
    }
   ],
   "source": [
    "df_pyspark_madrid_only_house_type2_pandas.head()"
   ]
  },
  {
   "cell_type": "markdown",
   "metadata": {},
   "source": [
    "### To CSV"
   ]
  },
  {
   "cell_type": "code",
   "execution_count": 36,
   "metadata": {},
   "outputs": [],
   "source": [
    "df_pyspark_madrid_only_house_type2_pandas.to_csv('Madrid_houses_updated_clean_new_house_type_only2.csv')"
   ]
  },
  {
   "cell_type": "markdown",
   "metadata": {},
   "source": [
    "### All other Data besides housetype = 2"
   ]
  },
  {
   "cell_type": "code",
   "execution_count": 37,
   "metadata": {},
   "outputs": [],
   "source": [
    "updated_df_madrid_pandas = updated_df_madrid_spark.toPandas()"
   ]
  },
  {
   "cell_type": "code",
   "execution_count": 47,
   "metadata": {},
   "outputs": [
    {
     "data": {
      "text/html": [
       "<div>\n",
       "<style scoped>\n",
       "    .dataframe tbody tr th:only-of-type {\n",
       "        vertical-align: middle;\n",
       "    }\n",
       "\n",
       "    .dataframe tbody tr th {\n",
       "        vertical-align: top;\n",
       "    }\n",
       "\n",
       "    .dataframe thead th {\n",
       "        text-align: right;\n",
       "    }\n",
       "</style>\n",
       "<table border=\"1\" class=\"dataframe\">\n",
       "  <thead>\n",
       "    <tr style=\"text-align: right;\">\n",
       "      <th></th>\n",
       "      <th>_c0</th>\n",
       "      <th>id</th>\n",
       "      <th>sq_mt_built</th>\n",
       "      <th>n_rooms</th>\n",
       "      <th>n_bathrooms</th>\n",
       "      <th>n_floors</th>\n",
       "      <th>sq_mt_allotment</th>\n",
       "      <th>floor</th>\n",
       "      <th>buy_price</th>\n",
       "      <th>is_renewal_needed</th>\n",
       "      <th>has_lift</th>\n",
       "      <th>is_exterior</th>\n",
       "      <th>energy_certificate</th>\n",
       "      <th>has_parking</th>\n",
       "      <th>neighborhood</th>\n",
       "      <th>district</th>\n",
       "      <th>house_type</th>\n",
       "      <th>fecha_venta</th>\n",
       "    </tr>\n",
       "  </thead>\n",
       "  <tbody>\n",
       "    <tr>\n",
       "      <th>0</th>\n",
       "      <td>0</td>\n",
       "      <td>21742</td>\n",
       "      <td>64.0</td>\n",
       "      <td>2</td>\n",
       "      <td>1</td>\n",
       "      <td>1</td>\n",
       "      <td>0.0</td>\n",
       "      <td>3</td>\n",
       "      <td>85000</td>\n",
       "      <td>False</td>\n",
       "      <td>False</td>\n",
       "      <td>True</td>\n",
       "      <td>4</td>\n",
       "      <td>False</td>\n",
       "      <td>135</td>\n",
       "      <td>21</td>\n",
       "      <td>1</td>\n",
       "      <td>2018-12-16 10:43:16</td>\n",
       "    </tr>\n",
       "    <tr>\n",
       "      <th>1</th>\n",
       "      <td>1</td>\n",
       "      <td>21741</td>\n",
       "      <td>70.0</td>\n",
       "      <td>3</td>\n",
       "      <td>1</td>\n",
       "      <td>1</td>\n",
       "      <td>0.0</td>\n",
       "      <td>4</td>\n",
       "      <td>129900</td>\n",
       "      <td>True</td>\n",
       "      <td>True</td>\n",
       "      <td>True</td>\n",
       "      <td>0</td>\n",
       "      <td>False</td>\n",
       "      <td>132</td>\n",
       "      <td>21</td>\n",
       "      <td>1</td>\n",
       "      <td>1994-07-09 21:18:56</td>\n",
       "    </tr>\n",
       "    <tr>\n",
       "      <th>2</th>\n",
       "      <td>2</td>\n",
       "      <td>21740</td>\n",
       "      <td>94.0</td>\n",
       "      <td>2</td>\n",
       "      <td>2</td>\n",
       "      <td>1</td>\n",
       "      <td>0.0</td>\n",
       "      <td>1</td>\n",
       "      <td>144247</td>\n",
       "      <td>False</td>\n",
       "      <td>True</td>\n",
       "      <td>True</td>\n",
       "      <td>0</td>\n",
       "      <td>False</td>\n",
       "      <td>134</td>\n",
       "      <td>21</td>\n",
       "      <td>1</td>\n",
       "      <td>1999-08-23 00:13:51</td>\n",
       "    </tr>\n",
       "    <tr>\n",
       "      <th>3</th>\n",
       "      <td>3</td>\n",
       "      <td>21739</td>\n",
       "      <td>64.0</td>\n",
       "      <td>2</td>\n",
       "      <td>1</td>\n",
       "      <td>1</td>\n",
       "      <td>0.0</td>\n",
       "      <td>-1</td>\n",
       "      <td>109900</td>\n",
       "      <td>False</td>\n",
       "      <td>True</td>\n",
       "      <td>True</td>\n",
       "      <td>0</td>\n",
       "      <td>False</td>\n",
       "      <td>134</td>\n",
       "      <td>21</td>\n",
       "      <td>1</td>\n",
       "      <td>2012-10-20 09:20:20</td>\n",
       "    </tr>\n",
       "    <tr>\n",
       "      <th>4</th>\n",
       "      <td>4</td>\n",
       "      <td>21738</td>\n",
       "      <td>108.0</td>\n",
       "      <td>2</td>\n",
       "      <td>2</td>\n",
       "      <td>1</td>\n",
       "      <td>0.0</td>\n",
       "      <td>4</td>\n",
       "      <td>260000</td>\n",
       "      <td>False</td>\n",
       "      <td>True</td>\n",
       "      <td>True</td>\n",
       "      <td>0</td>\n",
       "      <td>True</td>\n",
       "      <td>133</td>\n",
       "      <td>21</td>\n",
       "      <td>1</td>\n",
       "      <td>2011-03-19 07:39:04</td>\n",
       "    </tr>\n",
       "  </tbody>\n",
       "</table>\n",
       "</div>"
      ],
      "text/plain": [
       "  _c0     id sq_mt_built n_rooms n_bathrooms n_floors sq_mt_allotment floor  \\\n",
       "0   0  21742        64.0       2           1        1             0.0     3   \n",
       "1   1  21741        70.0       3           1        1             0.0     4   \n",
       "2   2  21740        94.0       2           2        1             0.0     1   \n",
       "3   3  21739        64.0       2           1        1             0.0    -1   \n",
       "4   4  21738       108.0       2           2        1             0.0     4   \n",
       "\n",
       "  buy_price is_renewal_needed has_lift is_exterior energy_certificate  \\\n",
       "0     85000             False    False        True                  4   \n",
       "1    129900              True     True        True                  0   \n",
       "2    144247             False     True        True                  0   \n",
       "3    109900             False     True        True                  0   \n",
       "4    260000             False     True        True                  0   \n",
       "\n",
       "  has_parking neighborhood district house_type          fecha_venta  \n",
       "0       False          135       21          1  2018-12-16 10:43:16  \n",
       "1       False          132       21          1  1994-07-09 21:18:56  \n",
       "2       False          134       21          1  1999-08-23 00:13:51  \n",
       "3       False          134       21          1  2012-10-20 09:20:20  \n",
       "4        True          133       21          1  2011-03-19 07:39:04  "
      ]
     },
     "execution_count": 47,
     "metadata": {},
     "output_type": "execute_result"
    }
   ],
   "source": [
    "updated_df_madrid_pandas.head()"
   ]
  },
  {
   "cell_type": "code",
   "execution_count": 39,
   "metadata": {},
   "outputs": [],
   "source": [
    "updated_df_madrid_pandas.to_csv('Madrid_houses_updated_clean_new.csv')"
   ]
  },
  {
   "cell_type": "code",
   "execution_count": 41,
   "metadata": {},
   "outputs": [],
   "source": [
    "houses = updated_df_madrid_pandas.groupby('house_type').count()"
   ]
  },
  {
   "cell_type": "code",
   "execution_count": 43,
   "metadata": {},
   "outputs": [
    {
     "data": {
      "text/html": [
       "<div>\n",
       "<style scoped>\n",
       "    .dataframe tbody tr th:only-of-type {\n",
       "        vertical-align: middle;\n",
       "    }\n",
       "\n",
       "    .dataframe tbody tr th {\n",
       "        vertical-align: top;\n",
       "    }\n",
       "\n",
       "    .dataframe thead th {\n",
       "        text-align: right;\n",
       "    }\n",
       "</style>\n",
       "<table border=\"1\" class=\"dataframe\">\n",
       "  <thead>\n",
       "    <tr style=\"text-align: right;\">\n",
       "      <th></th>\n",
       "      <th>_c0</th>\n",
       "      <th>id</th>\n",
       "      <th>sq_mt_built</th>\n",
       "      <th>n_rooms</th>\n",
       "      <th>n_bathrooms</th>\n",
       "      <th>n_floors</th>\n",
       "      <th>sq_mt_allotment</th>\n",
       "      <th>floor</th>\n",
       "      <th>buy_price</th>\n",
       "      <th>is_renewal_needed</th>\n",
       "      <th>has_lift</th>\n",
       "      <th>is_exterior</th>\n",
       "      <th>energy_certificate</th>\n",
       "      <th>has_parking</th>\n",
       "      <th>neighborhood</th>\n",
       "      <th>district</th>\n",
       "      <th>house_type</th>\n",
       "      <th>fecha_venta</th>\n",
       "    </tr>\n",
       "  </thead>\n",
       "  <tbody>\n",
       "    <tr>\n",
       "      <th>85</th>\n",
       "      <td>85</td>\n",
       "      <td>21657</td>\n",
       "      <td>150.0</td>\n",
       "      <td>2</td>\n",
       "      <td>1</td>\n",
       "      <td>2</td>\n",
       "      <td>0.0</td>\n",
       "      <td>-5</td>\n",
       "      <td>159000</td>\n",
       "      <td>True</td>\n",
       "      <td>False</td>\n",
       "      <td>True</td>\n",
       "      <td>2</td>\n",
       "      <td>True</td>\n",
       "      <td>134</td>\n",
       "      <td>21</td>\n",
       "      <td>2</td>\n",
       "      <td>1997-01-17 20:38:31</td>\n",
       "    </tr>\n",
       "    <tr>\n",
       "      <th>378</th>\n",
       "      <td>378</td>\n",
       "      <td>21364</td>\n",
       "      <td>240.0</td>\n",
       "      <td>4</td>\n",
       "      <td>3</td>\n",
       "      <td>3</td>\n",
       "      <td>0.0</td>\n",
       "      <td>-5</td>\n",
       "      <td>580000</td>\n",
       "      <td>False</td>\n",
       "      <td>False</td>\n",
       "      <td>True</td>\n",
       "      <td>0</td>\n",
       "      <td>True</td>\n",
       "      <td>134</td>\n",
       "      <td>21</td>\n",
       "      <td>2</td>\n",
       "      <td>2008-12-09 15:35:42</td>\n",
       "    </tr>\n",
       "    <tr>\n",
       "      <th>402</th>\n",
       "      <td>402</td>\n",
       "      <td>21340</td>\n",
       "      <td>242.0</td>\n",
       "      <td>4</td>\n",
       "      <td>3</td>\n",
       "      <td>4</td>\n",
       "      <td>22.0</td>\n",
       "      <td>-5</td>\n",
       "      <td>380000</td>\n",
       "      <td>False</td>\n",
       "      <td>False</td>\n",
       "      <td>True</td>\n",
       "      <td>0</td>\n",
       "      <td>True</td>\n",
       "      <td>134</td>\n",
       "      <td>21</td>\n",
       "      <td>2</td>\n",
       "      <td>2002-04-09 03:58:32</td>\n",
       "    </tr>\n",
       "    <tr>\n",
       "      <th>403</th>\n",
       "      <td>403</td>\n",
       "      <td>21339</td>\n",
       "      <td>166.0</td>\n",
       "      <td>3</td>\n",
       "      <td>1</td>\n",
       "      <td>3</td>\n",
       "      <td>166.0</td>\n",
       "      <td>-5</td>\n",
       "      <td>300000</td>\n",
       "      <td>True</td>\n",
       "      <td>False</td>\n",
       "      <td>True</td>\n",
       "      <td>0</td>\n",
       "      <td>False</td>\n",
       "      <td>133</td>\n",
       "      <td>21</td>\n",
       "      <td>2</td>\n",
       "      <td>2017-10-24 14:21:55</td>\n",
       "    </tr>\n",
       "    <tr>\n",
       "      <th>531</th>\n",
       "      <td>531</td>\n",
       "      <td>21211</td>\n",
       "      <td>274.0</td>\n",
       "      <td>8</td>\n",
       "      <td>3</td>\n",
       "      <td>3</td>\n",
       "      <td>157.0</td>\n",
       "      <td>-5</td>\n",
       "      <td>495000</td>\n",
       "      <td>False</td>\n",
       "      <td>False</td>\n",
       "      <td>True</td>\n",
       "      <td>0</td>\n",
       "      <td>False</td>\n",
       "      <td>133</td>\n",
       "      <td>21</td>\n",
       "      <td>2</td>\n",
       "      <td>2017-10-06 17:52:19</td>\n",
       "    </tr>\n",
       "    <tr>\n",
       "      <th>...</th>\n",
       "      <td>...</td>\n",
       "      <td>...</td>\n",
       "      <td>...</td>\n",
       "      <td>...</td>\n",
       "      <td>...</td>\n",
       "      <td>...</td>\n",
       "      <td>...</td>\n",
       "      <td>...</td>\n",
       "      <td>...</td>\n",
       "      <td>...</td>\n",
       "      <td>...</td>\n",
       "      <td>...</td>\n",
       "      <td>...</td>\n",
       "      <td>...</td>\n",
       "      <td>...</td>\n",
       "      <td>...</td>\n",
       "      <td>...</td>\n",
       "      <td>...</td>\n",
       "    </tr>\n",
       "    <tr>\n",
       "      <th>21718</th>\n",
       "      <td>21718</td>\n",
       "      <td>21</td>\n",
       "      <td>362.0</td>\n",
       "      <td>6</td>\n",
       "      <td>3</td>\n",
       "      <td>3</td>\n",
       "      <td>0.0</td>\n",
       "      <td>-5</td>\n",
       "      <td>715000</td>\n",
       "      <td>False</td>\n",
       "      <td>False</td>\n",
       "      <td>True</td>\n",
       "      <td>3</td>\n",
       "      <td>False</td>\n",
       "      <td>11</td>\n",
       "      <td>2</td>\n",
       "      <td>2</td>\n",
       "      <td>2017-11-15 16:13:19</td>\n",
       "    </tr>\n",
       "    <tr>\n",
       "      <th>21727</th>\n",
       "      <td>21727</td>\n",
       "      <td>12</td>\n",
       "      <td>289.0</td>\n",
       "      <td>5</td>\n",
       "      <td>3</td>\n",
       "      <td>3</td>\n",
       "      <td>0.0</td>\n",
       "      <td>-5</td>\n",
       "      <td>820000</td>\n",
       "      <td>False</td>\n",
       "      <td>False</td>\n",
       "      <td>True</td>\n",
       "      <td>0</td>\n",
       "      <td>True</td>\n",
       "      <td>8</td>\n",
       "      <td>2</td>\n",
       "      <td>2</td>\n",
       "      <td>2018-11-03 07:43:48</td>\n",
       "    </tr>\n",
       "    <tr>\n",
       "      <th>21728</th>\n",
       "      <td>21728</td>\n",
       "      <td>11</td>\n",
       "      <td>276.0</td>\n",
       "      <td>4</td>\n",
       "      <td>4</td>\n",
       "      <td>4</td>\n",
       "      <td>189.0</td>\n",
       "      <td>-5</td>\n",
       "      <td>690000</td>\n",
       "      <td>False</td>\n",
       "      <td>False</td>\n",
       "      <td>True</td>\n",
       "      <td>1</td>\n",
       "      <td>True</td>\n",
       "      <td>11</td>\n",
       "      <td>2</td>\n",
       "      <td>2</td>\n",
       "      <td>1998-03-03 19:40:20</td>\n",
       "    </tr>\n",
       "    <tr>\n",
       "      <th>21730</th>\n",
       "      <td>21730</td>\n",
       "      <td>9</td>\n",
       "      <td>267.0</td>\n",
       "      <td>5</td>\n",
       "      <td>3</td>\n",
       "      <td>2</td>\n",
       "      <td>382.0</td>\n",
       "      <td>-5</td>\n",
       "      <td>790000</td>\n",
       "      <td>False</td>\n",
       "      <td>False</td>\n",
       "      <td>True</td>\n",
       "      <td>0</td>\n",
       "      <td>True</td>\n",
       "      <td>9</td>\n",
       "      <td>2</td>\n",
       "      <td>2</td>\n",
       "      <td>2013-07-07 09:36:15</td>\n",
       "    </tr>\n",
       "    <tr>\n",
       "      <th>21737</th>\n",
       "      <td>21737</td>\n",
       "      <td>2</td>\n",
       "      <td>289.0</td>\n",
       "      <td>4</td>\n",
       "      <td>3</td>\n",
       "      <td>3</td>\n",
       "      <td>304.0</td>\n",
       "      <td>-5</td>\n",
       "      <td>695000</td>\n",
       "      <td>False</td>\n",
       "      <td>False</td>\n",
       "      <td>True</td>\n",
       "      <td>0</td>\n",
       "      <td>True</td>\n",
       "      <td>9</td>\n",
       "      <td>2</td>\n",
       "      <td>2</td>\n",
       "      <td>1994-07-14 10:10:50</td>\n",
       "    </tr>\n",
       "  </tbody>\n",
       "</table>\n",
       "<p>1938 rows × 18 columns</p>\n",
       "</div>"
      ],
      "text/plain": [
       "         _c0     id sq_mt_built n_rooms n_bathrooms n_floors sq_mt_allotment  \\\n",
       "85        85  21657       150.0       2           1        2             0.0   \n",
       "378      378  21364       240.0       4           3        3             0.0   \n",
       "402      402  21340       242.0       4           3        4            22.0   \n",
       "403      403  21339       166.0       3           1        3           166.0   \n",
       "531      531  21211       274.0       8           3        3           157.0   \n",
       "...      ...    ...         ...     ...         ...      ...             ...   \n",
       "21718  21718     21       362.0       6           3        3             0.0   \n",
       "21727  21727     12       289.0       5           3        3             0.0   \n",
       "21728  21728     11       276.0       4           4        4           189.0   \n",
       "21730  21730      9       267.0       5           3        2           382.0   \n",
       "21737  21737      2       289.0       4           3        3           304.0   \n",
       "\n",
       "      floor buy_price is_renewal_needed has_lift is_exterior  \\\n",
       "85       -5    159000              True    False        True   \n",
       "378      -5    580000             False    False        True   \n",
       "402      -5    380000             False    False        True   \n",
       "403      -5    300000              True    False        True   \n",
       "531      -5    495000             False    False        True   \n",
       "...     ...       ...               ...      ...         ...   \n",
       "21718    -5    715000             False    False        True   \n",
       "21727    -5    820000             False    False        True   \n",
       "21728    -5    690000             False    False        True   \n",
       "21730    -5    790000             False    False        True   \n",
       "21737    -5    695000             False    False        True   \n",
       "\n",
       "      energy_certificate has_parking neighborhood district house_type  \\\n",
       "85                     2        True          134       21          2   \n",
       "378                    0        True          134       21          2   \n",
       "402                    0        True          134       21          2   \n",
       "403                    0       False          133       21          2   \n",
       "531                    0       False          133       21          2   \n",
       "...                  ...         ...          ...      ...        ...   \n",
       "21718                  3       False           11        2          2   \n",
       "21727                  0        True            8        2          2   \n",
       "21728                  1        True           11        2          2   \n",
       "21730                  0        True            9        2          2   \n",
       "21737                  0        True            9        2          2   \n",
       "\n",
       "               fecha_venta  \n",
       "85     1997-01-17 20:38:31  \n",
       "378    2008-12-09 15:35:42  \n",
       "402    2002-04-09 03:58:32  \n",
       "403    2017-10-24 14:21:55  \n",
       "531    2017-10-06 17:52:19  \n",
       "...                    ...  \n",
       "21718  2017-11-15 16:13:19  \n",
       "21727  2018-11-03 07:43:48  \n",
       "21728  1998-03-03 19:40:20  \n",
       "21730  2013-07-07 09:36:15  \n",
       "21737  1994-07-14 10:10:50  \n",
       "\n",
       "[1938 rows x 18 columns]"
      ]
     },
     "execution_count": 43,
     "metadata": {},
     "output_type": "execute_result"
    }
   ],
   "source": [
    "updated_df_madrid_pandas[updated_df_madrid_pandas['house_type'] == '2']"
   ]
  },
  {
   "cell_type": "code",
   "execution_count": null,
   "metadata": {},
   "outputs": [],
   "source": []
  }
 ],
 "metadata": {
  "interpreter": {
   "hash": "767b7ec052309644c0c5e6dc5605590b7f35f0190d0d70a79a11a8b30f12c0d5"
  },
  "kernelspec": {
   "display_name": "Python 3.7.4 64-bit",
   "language": "python",
   "name": "python3"
  },
  "language_info": {
   "codemirror_mode": {
    "name": "ipython",
    "version": 3
   },
   "file_extension": ".py",
   "mimetype": "text/x-python",
   "name": "python",
   "nbconvert_exporter": "python",
   "pygments_lexer": "ipython3",
   "version": "3.7.4"
  },
  "orig_nbformat": 4
 },
 "nbformat": 4,
 "nbformat_minor": 2
}
